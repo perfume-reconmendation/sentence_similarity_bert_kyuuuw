{
 "cells": [
  {
   "cell_type": "code",
   "execution_count": 3,
   "outputs": [
    {
     "name": "stdout",
     "output_type": "stream",
     "text": [
      "Collecting sentence_transformers\r\n",
      "  Downloading sentence-transformers-2.0.0.tar.gz (85 kB)\r\n",
      "\u001B[K     |████████████████████████████████| 85 kB 1.6 MB/s eta 0:00:01\r\n",
      "\u001B[?25hCollecting transformers<5.0.0,>=4.6.0\r\n",
      "  Downloading transformers-4.8.2-py3-none-any.whl (2.5 MB)\r\n",
      "\u001B[K     |████████████████████████████████| 2.5 MB 8.3 MB/s eta 0:00:01\r\n",
      "\u001B[?25hRequirement already satisfied: tqdm in /usr/local/anaconda3/envs/mysql_connector/lib/python3.7/site-packages (from sentence_transformers) (4.61.0)\r\n",
      "Collecting torch>=1.6.0\r\n",
      "  Downloading torch-1.9.0-cp37-none-macosx_10_9_x86_64.whl (127.9 MB)\r\n",
      "\u001B[K     |████████████████████████████████| 127.9 MB 19 kB/s s eta 0:00:01     |███████████████████████████████▌| 125.7 MB 12.8 MB/s eta 0:00:01\r\n",
      "\u001B[?25hCollecting torchvision\r\n",
      "  Downloading torchvision-0.10.0-cp37-cp37m-macosx_10_9_x86_64.whl (13.9 MB)\r\n",
      "\u001B[K     |████████████████████████████████| 13.9 MB 2.9 MB/s eta 0:00:01\r\n",
      "\u001B[?25hRequirement already satisfied: numpy in /usr/local/anaconda3/envs/mysql_connector/lib/python3.7/site-packages (from sentence_transformers) (1.20.2)\r\n",
      "Collecting scikit-learn\r\n",
      "  Using cached scikit_learn-0.24.2-cp37-cp37m-macosx_10_13_x86_64.whl (7.2 MB)\r\n",
      "Collecting scipy\r\n",
      "  Downloading scipy-1.7.0-cp37-cp37m-macosx_10_9_x86_64.whl (31.9 MB)\r\n",
      "\u001B[K     |████████████████████████████████| 31.9 MB 50 kB/s s eta 0:00:01\r\n",
      "\u001B[?25hCollecting nltk\r\n",
      "  Downloading nltk-3.6.2-py3-none-any.whl (1.5 MB)\r\n",
      "\u001B[K     |████████████████████████████████| 1.5 MB 12.4 MB/s eta 0:00:01\r\n",
      "\u001B[?25hCollecting sentencepiece\r\n",
      "  Downloading sentencepiece-0.1.96-cp37-cp37m-macosx_10_6_x86_64.whl (1.1 MB)\r\n",
      "\u001B[K     |████████████████████████████████| 1.1 MB 11.6 MB/s eta 0:00:01\r\n",
      "\u001B[?25hCollecting huggingface-hub\r\n",
      "  Downloading huggingface_hub-0.0.14-py3-none-any.whl (43 kB)\r\n",
      "\u001B[K     |████████████████████████████████| 43 kB 2.6 MB/s  eta 0:00:01\r\n",
      "\u001B[?25hRequirement already satisfied: typing-extensions in /usr/local/anaconda3/envs/mysql_connector/lib/python3.7/site-packages (from torch>=1.6.0->sentence_transformers) (3.7.4.3)\r\n",
      "  Downloading huggingface_hub-0.0.12-py3-none-any.whl (37 kB)\r\n",
      "Collecting regex!=2019.12.17\r\n",
      "  Downloading regex-2021.7.6-cp37-cp37m-macosx_10_9_x86_64.whl (285 kB)\r\n",
      "\u001B[K     |████████████████████████████████| 285 kB 5.4 MB/s eta 0:00:01\r\n",
      "\u001B[?25hCollecting tokenizers<0.11,>=0.10.1\r\n",
      "  Downloading tokenizers-0.10.3-cp37-cp37m-macosx_10_11_x86_64.whl (2.2 MB)\r\n",
      "\u001B[K     |████████████████████████████████| 2.2 MB 12.6 MB/s eta 0:00:01\r\n",
      "\u001B[?25hRequirement already satisfied: packaging in /usr/local/anaconda3/envs/mysql_connector/lib/python3.7/site-packages (from transformers<5.0.0,>=4.6.0->sentence_transformers) (20.9)\r\n",
      "Collecting filelock\r\n",
      "  Using cached filelock-3.0.12-py3-none-any.whl (7.6 kB)\r\n",
      "Requirement already satisfied: requests in /usr/local/anaconda3/envs/mysql_connector/lib/python3.7/site-packages (from transformers<5.0.0,>=4.6.0->sentence_transformers) (2.25.1)\r\n",
      "Collecting pyyaml\r\n",
      "  Downloading PyYAML-5.4.1-cp37-cp37m-macosx_10_9_x86_64.whl (249 kB)\r\n",
      "\u001B[K     |████████████████████████████████| 249 kB 10.9 MB/s eta 0:00:01\r\n",
      "\u001B[?25hCollecting sacremoses\r\n",
      "  Downloading sacremoses-0.0.45-py3-none-any.whl (895 kB)\r\n",
      "\u001B[K     |████████████████████████████████| 895 kB 1.2 MB/s eta 0:00:01\r\n",
      "\u001B[?25hRequirement already satisfied: importlib-metadata in /usr/local/anaconda3/envs/mysql_connector/lib/python3.7/site-packages (from transformers<5.0.0,>=4.6.0->sentence_transformers) (3.10.0)\r\n",
      "Requirement already satisfied: pyparsing>=2.0.2 in /usr/local/anaconda3/envs/mysql_connector/lib/python3.7/site-packages (from packaging->transformers<5.0.0,>=4.6.0->sentence_transformers) (2.4.7)\r\n",
      "Requirement already satisfied: zipp>=0.5 in /usr/local/anaconda3/envs/mysql_connector/lib/python3.7/site-packages (from importlib-metadata->transformers<5.0.0,>=4.6.0->sentence_transformers) (3.4.1)\r\n",
      "Collecting joblib\r\n",
      "  Downloading joblib-1.0.1-py3-none-any.whl (303 kB)\r\n",
      "\u001B[K     |████████████████████████████████| 303 kB 12.3 MB/s eta 0:00:01\r\n",
      "\u001B[?25hRequirement already satisfied: click in /usr/local/anaconda3/envs/mysql_connector/lib/python3.7/site-packages (from nltk->sentence_transformers) (8.0.1)\r\n",
      "Requirement already satisfied: urllib3<1.27,>=1.21.1 in /usr/local/anaconda3/envs/mysql_connector/lib/python3.7/site-packages (from requests->transformers<5.0.0,>=4.6.0->sentence_transformers) (1.26.4)\r\n",
      "Requirement already satisfied: idna<3,>=2.5 in /usr/local/anaconda3/envs/mysql_connector/lib/python3.7/site-packages (from requests->transformers<5.0.0,>=4.6.0->sentence_transformers) (2.10)\r\n",
      "Requirement already satisfied: chardet<5,>=3.0.2 in /usr/local/anaconda3/envs/mysql_connector/lib/python3.7/site-packages (from requests->transformers<5.0.0,>=4.6.0->sentence_transformers) (4.0.0)\r\n",
      "Requirement already satisfied: certifi>=2017.4.17 in /usr/local/anaconda3/envs/mysql_connector/lib/python3.7/site-packages (from requests->transformers<5.0.0,>=4.6.0->sentence_transformers) (2021.5.30)\r\n",
      "Requirement already satisfied: six in /usr/local/anaconda3/envs/mysql_connector/lib/python3.7/site-packages (from sacremoses->transformers<5.0.0,>=4.6.0->sentence_transformers) (1.15.0)\r\n",
      "Collecting threadpoolctl>=2.0.0\r\n",
      "  Downloading threadpoolctl-2.2.0-py3-none-any.whl (12 kB)\r\n",
      "Requirement already satisfied: pillow>=5.3.0 in /usr/local/anaconda3/envs/mysql_connector/lib/python3.7/site-packages (from torchvision->sentence_transformers) (8.2.0)\r\n",
      "Building wheels for collected packages: sentence-transformers\r\n",
      "  Building wheel for sentence-transformers (setup.py) ... \u001B[?25l-\b \b\\\b \b|\b \bdone\r\n",
      "\u001B[?25h  Created wheel for sentence-transformers: filename=sentence_transformers-2.0.0-py3-none-any.whl size=126709 sha256=b812bbe934b80ad58e798c1934233fc894e424b015b3b811336a8dce63fbf61c\r\n",
      "  Stored in directory: /Users/kyuwon/Library/Caches/pip/wheels/d1/c1/0f/faafd427f705c4b012274ba60d9a91d75830306811e1355293\r\n",
      "Successfully built sentence-transformers\r\n",
      "Installing collected packages: regex, joblib, filelock, torch, tokenizers, threadpoolctl, scipy, sacremoses, pyyaml, huggingface-hub, transformers, torchvision, sentencepiece, scikit-learn, nltk, sentence-transformers\r\n",
      "Successfully installed filelock-3.0.12 huggingface-hub-0.0.12 joblib-1.0.1 nltk-3.6.2 pyyaml-5.4.1 regex-2021.7.6 sacremoses-0.0.45 scikit-learn-0.24.2 scipy-1.7.0 sentence-transformers-2.0.0 sentencepiece-0.1.96 threadpoolctl-2.2.0 tokenizers-0.10.3 torch-1.9.0 torchvision-0.10.0 transformers-4.8.2\r\n"
     ]
    }
   ],
   "source": [
    "!pip install sentence_transformers"
   ],
   "metadata": {
    "collapsed": false,
    "pycharm": {
     "name": "#%%\n"
    }
   }
  },
  {
   "cell_type": "code",
   "execution_count": 4,
   "outputs": [],
   "source": [
    "import requests\n",
    "from os import path\n",
    "import pandas as pd\n",
    "from sentence_transformers import SentenceTransformer\n",
    "\n",
    "# Source\n",
    "data_path = './dataset_210626_215600.csv'\n",
    "\n",
    "if not path.exists(data_path):\n",
    "    url = 'https://kyuuuw-nlp-dataset.s3.ap-northeast-2.amazonaws.com/fragrantica/dataset_210626_215600.csv'\n",
    "    r = requests.get(url, allow_redirects=True)\n",
    "    open(data_path, 'w').write(r.text)\n",
    "\n",
    "data = pd.read_csv(data_path)"
   ],
   "metadata": {
    "collapsed": false,
    "pycharm": {
     "name": "#%%\n"
    }
   }
  },
  {
   "cell_type": "code",
   "execution_count": null,
   "outputs": [
    {
     "data": {
      "text/plain": "Downloading:   0%|          | 0.00/690 [00:00<?, ?B/s]",
      "application/vnd.jupyter.widget-view+json": {
       "version_major": 2,
       "version_minor": 0,
       "model_id": "4cf31870a70940eeaec86930f0be35a2"
      }
     },
     "metadata": {},
     "output_type": "display_data"
    },
    {
     "data": {
      "text/plain": "Downloading:   0%|          | 0.00/2.83k [00:00<?, ?B/s]",
      "application/vnd.jupyter.widget-view+json": {
       "version_major": 2,
       "version_minor": 0,
       "model_id": "6261ef26c89b42d6b8424df2d8ab8f5d"
      }
     },
     "metadata": {},
     "output_type": "display_data"
    },
    {
     "data": {
      "text/plain": "Downloading:   0%|          | 0.00/556 [00:00<?, ?B/s]",
      "application/vnd.jupyter.widget-view+json": {
       "version_major": 2,
       "version_minor": 0,
       "model_id": "c78510af963a4271aaba4d1f8f75b929"
      }
     },
     "metadata": {},
     "output_type": "display_data"
    },
    {
     "data": {
      "text/plain": "Downloading:   0%|          | 0.00/122 [00:00<?, ?B/s]",
      "application/vnd.jupyter.widget-view+json": {
       "version_major": 2,
       "version_minor": 0,
       "model_id": "e4838235056044f8a51ee76094acbea4"
      }
     },
     "metadata": {},
     "output_type": "display_data"
    },
    {
     "data": {
      "text/plain": "Downloading:   0%|          | 0.00/341 [00:00<?, ?B/s]",
      "application/vnd.jupyter.widget-view+json": {
       "version_major": 2,
       "version_minor": 0,
       "model_id": "b7bc144ba7f748e299752cd98f1ed7fd"
      }
     },
     "metadata": {},
     "output_type": "display_data"
    },
    {
     "data": {
      "text/plain": "Downloading:   0%|          | 0.00/539M [00:00<?, ?B/s]",
      "application/vnd.jupyter.widget-view+json": {
       "version_major": 2,
       "version_minor": 0,
       "model_id": "298b61c3a8b54f61933029fe375f6026"
      }
     },
     "metadata": {},
     "output_type": "display_data"
    },
    {
     "data": {
      "text/plain": "Downloading:   0%|          | 0.00/53.0 [00:00<?, ?B/s]",
      "application/vnd.jupyter.widget-view+json": {
       "version_major": 2,
       "version_minor": 0,
       "model_id": "ced847321f9247d5a720cead2947d0bb"
      }
     },
     "metadata": {},
     "output_type": "display_data"
    },
    {
     "data": {
      "text/plain": "Downloading:   0%|          | 0.00/112 [00:00<?, ?B/s]",
      "application/vnd.jupyter.widget-view+json": {
       "version_major": 2,
       "version_minor": 0,
       "model_id": "ee1039068e144abe8eba4f74a25683c4"
      }
     },
     "metadata": {},
     "output_type": "display_data"
    },
    {
     "data": {
      "text/plain": "Downloading:   0%|          | 0.00/1.96M [00:00<?, ?B/s]",
      "application/vnd.jupyter.widget-view+json": {
       "version_major": 2,
       "version_minor": 0,
       "model_id": "4021ab168e7c4c31bb6757e95b80f3f6"
      }
     },
     "metadata": {},
     "output_type": "display_data"
    },
    {
     "data": {
      "text/plain": "Downloading:   0%|          | 0.00/452 [00:00<?, ?B/s]",
      "application/vnd.jupyter.widget-view+json": {
       "version_major": 2,
       "version_minor": 0,
       "model_id": "15dac18676474f48b790e323c3b79e51"
      }
     },
     "metadata": {},
     "output_type": "display_data"
    },
    {
     "data": {
      "text/plain": "Downloading:   0%|          | 0.00/996k [00:00<?, ?B/s]",
      "application/vnd.jupyter.widget-view+json": {
       "version_major": 2,
       "version_minor": 0,
       "model_id": "0f0c8ce38fbb441eb1d9251991ed56ba"
      }
     },
     "metadata": {},
     "output_type": "display_data"
    },
    {
     "data": {
      "text/plain": "Downloading:   0%|          | 0.00/190 [00:00<?, ?B/s]",
      "application/vnd.jupyter.widget-view+json": {
       "version_major": 2,
       "version_minor": 0,
       "model_id": "0342af28b1924ae1a655e31e74bdcac3"
      }
     },
     "metadata": {},
     "output_type": "display_data"
    },
    {
     "data": {
      "text/plain": "Downloading:   0%|          | 0.00/114 [00:00<?, ?B/s]",
      "application/vnd.jupyter.widget-view+json": {
       "version_major": 2,
       "version_minor": 0,
       "model_id": "36847818e5e642e3b06ad52a2eab0406"
      }
     },
     "metadata": {},
     "output_type": "display_data"
    },
    {
     "data": {
      "text/plain": "Downloading:   0%|          | 0.00/1.58M [00:00<?, ?B/s]",
      "application/vnd.jupyter.widget-view+json": {
       "version_major": 2,
       "version_minor": 0,
       "model_id": "f65879a01bbb42f0804a4b34f046f4f9"
      }
     },
     "metadata": {},
     "output_type": "display_data"
    }
   ],
   "source": [
    "model = SentenceTransformer('sentence-transformers/distiluse-base-multilingual-cased-v1')\n",
    "vectors = data['review'].apply(lambda x: model.encode(x))\n",
    "vectors = vectors.to_numpy()\n",
    "vectors.shape"
   ],
   "metadata": {
    "collapsed": false,
    "pycharm": {
     "name": "#%%\n",
     "is_executing": true
    }
   }
  },
  {
   "cell_type": "code",
   "execution_count": null,
   "outputs": [],
   "source": [
    "vectors.save('./bert_vec.npy')"
   ],
   "metadata": {
    "collapsed": false,
    "pycharm": {
     "name": "#%%\n",
     "is_executing": true
    }
   }
  },
  {
   "cell_type": "code",
   "execution_count": null,
   "outputs": [],
   "source": [
    "\n"
   ],
   "metadata": {
    "collapsed": false,
    "pycharm": {
     "name": "#%%\n"
    }
   }
  }
 ],
 "metadata": {
  "kernelspec": {
   "name": "python3",
   "language": "python",
   "display_name": "Python 3"
  },
  "language_info": {
   "codemirror_mode": {
    "name": "ipython",
    "version": 2
   },
   "file_extension": ".py",
   "mimetype": "text/x-python",
   "name": "python",
   "nbconvert_exporter": "python",
   "pygments_lexer": "ipython2",
   "version": "2.7.6"
  }
 },
 "nbformat": 4,
 "nbformat_minor": 0
}