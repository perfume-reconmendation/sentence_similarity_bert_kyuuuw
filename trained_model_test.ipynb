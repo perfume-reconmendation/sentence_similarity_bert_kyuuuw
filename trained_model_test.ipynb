{
 "cells": [
  {
   "cell_type": "code",
   "execution_count": 1,
   "metadata": {
    "collapsed": true
   },
   "outputs": [
    {
     "name": "stdout",
     "output_type": "stream",
     "text": [
      "Collecting sentence-transformers\n",
      "  Downloading sentence-transformers-2.0.0.tar.gz (85 kB)\n",
      "Requirement already satisfied: transformers<5.0.0,>=4.6.0 in c:\\tools\\anaconda3\\envs\\tensorflow\\lib\\site-packages (from sentence-transformers) (4.8.2)\n",
      "Requirement already satisfied: tqdm in c:\\tools\\anaconda3\\envs\\tensorflow\\lib\\site-packages (from sentence-transformers) (4.59.0)\n",
      "Collecting torch>=1.6.0\n",
      "  Downloading torch-1.9.0-cp37-cp37m-win_amd64.whl (222.0 MB)\n",
      "Collecting torchvision\n",
      "  Downloading torchvision-0.10.0-cp37-cp37m-win_amd64.whl (920 kB)\n",
      "Requirement already satisfied: numpy in c:\\tools\\anaconda3\\envs\\tensorflow\\lib\\site-packages (from sentence-transformers) (1.20.2)\n",
      "Collecting scikit-learn\n",
      "  Downloading scikit_learn-0.24.2-cp37-cp37m-win_amd64.whl (6.8 MB)\n",
      "Requirement already satisfied: scipy in c:\\tools\\anaconda3\\envs\\tensorflow\\lib\\site-packages (from sentence-transformers) (1.6.2)\n",
      "Requirement already satisfied: nltk in c:\\tools\\anaconda3\\envs\\tensorflow\\lib\\site-packages (from sentence-transformers) (3.6.1)\n",
      "Collecting sentencepiece\n",
      "  Downloading sentencepiece-0.1.96-cp37-cp37m-win_amd64.whl (1.1 MB)\n",
      "Requirement already satisfied: huggingface-hub in c:\\tools\\anaconda3\\envs\\tensorflow\\lib\\site-packages (from sentence-transformers) (0.0.12)\n",
      "Requirement already satisfied: typing-extensions in c:\\tools\\anaconda3\\envs\\tensorflow\\lib\\site-packages (from torch>=1.6.0->sentence-transformers) (3.7.4.3)\n",
      "Requirement already satisfied: packaging in c:\\tools\\anaconda3\\envs\\tensorflow\\lib\\site-packages (from transformers<5.0.0,>=4.6.0->sentence-transformers) (20.9)\n",
      "Requirement already satisfied: pyyaml in c:\\tools\\anaconda3\\envs\\tensorflow\\lib\\site-packages (from transformers<5.0.0,>=4.6.0->sentence-transformers) (5.4.1)\n",
      "Requirement already satisfied: tokenizers<0.11,>=0.10.1 in c:\\tools\\anaconda3\\envs\\tensorflow\\lib\\site-packages (from transformers<5.0.0,>=4.6.0->sentence-transformers) (0.10.3)\n",
      "Requirement already satisfied: filelock in c:\\tools\\anaconda3\\envs\\tensorflow\\lib\\site-packages (from transformers<5.0.0,>=4.6.0->sentence-transformers) (3.0.12)\n",
      "Requirement already satisfied: sacremoses in c:\\tools\\anaconda3\\envs\\tensorflow\\lib\\site-packages (from transformers<5.0.0,>=4.6.0->sentence-transformers) (0.0.45)\n",
      "Requirement already satisfied: importlib-metadata in c:\\tools\\anaconda3\\envs\\tensorflow\\lib\\site-packages (from transformers<5.0.0,>=4.6.0->sentence-transformers) (3.10.0)\n",
      "Requirement already satisfied: requests in c:\\tools\\anaconda3\\envs\\tensorflow\\lib\\site-packages (from transformers<5.0.0,>=4.6.0->sentence-transformers) (2.25.1)\n",
      "Requirement already satisfied: regex!=2019.12.17 in c:\\tools\\anaconda3\\envs\\tensorflow\\lib\\site-packages (from transformers<5.0.0,>=4.6.0->sentence-transformers) (2021.4.4)\n",
      "Requirement already satisfied: pyparsing>=2.0.2 in c:\\tools\\anaconda3\\envs\\tensorflow\\lib\\site-packages (from packaging->transformers<5.0.0,>=4.6.0->sentence-transformers) (2.4.7)\n",
      "Requirement already satisfied: zipp>=0.5 in c:\\tools\\anaconda3\\envs\\tensorflow\\lib\\site-packages (from importlib-metadata->transformers<5.0.0,>=4.6.0->sentence-transformers) (3.4.1)\n",
      "Requirement already satisfied: click in c:\\tools\\anaconda3\\envs\\tensorflow\\lib\\site-packages (from nltk->sentence-transformers) (8.0.0)\n",
      "Requirement already satisfied: joblib in c:\\tools\\anaconda3\\envs\\tensorflow\\lib\\site-packages (from nltk->sentence-transformers) (1.0.1)\n",
      "Requirement already satisfied: colorama in c:\\tools\\anaconda3\\envs\\tensorflow\\lib\\site-packages (from click->nltk->sentence-transformers) (0.4.4)\n",
      "Requirement already satisfied: idna<3,>=2.5 in c:\\tools\\anaconda3\\envs\\tensorflow\\lib\\site-packages (from requests->transformers<5.0.0,>=4.6.0->sentence-transformers) (2.10)\n",
      "Requirement already satisfied: certifi>=2017.4.17 in c:\\tools\\anaconda3\\envs\\tensorflow\\lib\\site-packages (from requests->transformers<5.0.0,>=4.6.0->sentence-transformers) (2020.12.5)\n",
      "Requirement already satisfied: chardet<5,>=3.0.2 in c:\\tools\\anaconda3\\envs\\tensorflow\\lib\\site-packages (from requests->transformers<5.0.0,>=4.6.0->sentence-transformers) (3.0.4)\n",
      "Requirement already satisfied: urllib3<1.27,>=1.21.1 in c:\\tools\\anaconda3\\envs\\tensorflow\\lib\\site-packages (from requests->transformers<5.0.0,>=4.6.0->sentence-transformers) (1.26.4)\n",
      "Requirement already satisfied: six in c:\\tools\\anaconda3\\envs\\tensorflow\\lib\\site-packages (from sacremoses->transformers<5.0.0,>=4.6.0->sentence-transformers) (1.15.0)\n",
      "Collecting threadpoolctl>=2.0.0\n",
      "  Using cached threadpoolctl-2.1.0-py3-none-any.whl (12 kB)\n",
      "Collecting pillow>=5.3.0\n",
      "  Downloading Pillow-8.3.1-cp37-cp37m-win_amd64.whl (3.1 MB)\n",
      "Building wheels for collected packages: sentence-transformers\n",
      "  Building wheel for sentence-transformers (setup.py): started\n",
      "  Building wheel for sentence-transformers (setup.py): finished with status 'done'\n",
      "  Created wheel for sentence-transformers: filename=sentence_transformers-2.0.0-py3-none-any.whl size=126709 sha256=0479e40dab787deabd9e86d43da9e70b19401e1359ab71601a492f2c2aef2d8b\n",
      "  Stored in directory: c:\\users\\boba-research\\appdata\\local\\pip\\cache\\wheels\\d1\\c1\\0f\\faafd427f705c4b012274ba60d9a91d75830306811e1355293\n",
      "Successfully built sentence-transformers\n",
      "Installing collected packages: torch, threadpoolctl, pillow, torchvision, sentencepiece, scikit-learn, sentence-transformers\n",
      "Successfully installed pillow-8.3.1 scikit-learn-0.24.2 sentence-transformers-2.0.0 sentencepiece-0.1.96 threadpoolctl-2.1.0 torch-1.9.0 torchvision-0.10.0\n"
     ]
    }
   ],
   "source": [
    "!pip install -U sentence-transformers"
   ]
  },
  {
   "cell_type": "code",
   "execution_count": 2,
   "outputs": [
    {
     "data": {
      "text/plain": "Downloading:   0%|          | 0.00/690 [00:00<?, ?B/s]",
      "application/vnd.jupyter.widget-view+json": {
       "version_major": 2,
       "version_minor": 0,
       "model_id": "d96a4bfc8ac64b448a831b36811353bb"
      }
     },
     "metadata": {},
     "output_type": "display_data"
    },
    {
     "data": {
      "text/plain": "Downloading:   0%|          | 0.00/2.83k [00:00<?, ?B/s]",
      "application/vnd.jupyter.widget-view+json": {
       "version_major": 2,
       "version_minor": 0,
       "model_id": "1445036549594b698689eae50f7d90e3"
      }
     },
     "metadata": {},
     "output_type": "display_data"
    },
    {
     "data": {
      "text/plain": "Downloading:   0%|          | 0.00/556 [00:00<?, ?B/s]",
      "application/vnd.jupyter.widget-view+json": {
       "version_major": 2,
       "version_minor": 0,
       "model_id": "7e5e91afc7384b03bd424a8b9a2053a7"
      }
     },
     "metadata": {},
     "output_type": "display_data"
    },
    {
     "data": {
      "text/plain": "Downloading:   0%|          | 0.00/122 [00:00<?, ?B/s]",
      "application/vnd.jupyter.widget-view+json": {
       "version_major": 2,
       "version_minor": 0,
       "model_id": "92e1c2584db44c049d716e112d746df9"
      }
     },
     "metadata": {},
     "output_type": "display_data"
    },
    {
     "data": {
      "text/plain": "Downloading:   0%|          | 0.00/341 [00:00<?, ?B/s]",
      "application/vnd.jupyter.widget-view+json": {
       "version_major": 2,
       "version_minor": 0,
       "model_id": "f2987090632e44548d4364b70b604949"
      }
     },
     "metadata": {},
     "output_type": "display_data"
    },
    {
     "data": {
      "text/plain": "Downloading:   0%|          | 0.00/539M [00:00<?, ?B/s]",
      "application/vnd.jupyter.widget-view+json": {
       "version_major": 2,
       "version_minor": 0,
       "model_id": "4c9f52f5bde24f31af405faad3ecec6d"
      }
     },
     "metadata": {},
     "output_type": "display_data"
    },
    {
     "data": {
      "text/plain": "Downloading:   0%|          | 0.00/53.0 [00:00<?, ?B/s]",
      "application/vnd.jupyter.widget-view+json": {
       "version_major": 2,
       "version_minor": 0,
       "model_id": "a6a03d7a279a4850b39bd78d37809028"
      }
     },
     "metadata": {},
     "output_type": "display_data"
    },
    {
     "data": {
      "text/plain": "Downloading:   0%|          | 0.00/112 [00:00<?, ?B/s]",
      "application/vnd.jupyter.widget-view+json": {
       "version_major": 2,
       "version_minor": 0,
       "model_id": "a528ddefc1d24bfab9d4cd9186ebd4da"
      }
     },
     "metadata": {},
     "output_type": "display_data"
    },
    {
     "data": {
      "text/plain": "Downloading:   0%|          | 0.00/1.96M [00:00<?, ?B/s]",
      "application/vnd.jupyter.widget-view+json": {
       "version_major": 2,
       "version_minor": 0,
       "model_id": "819820915a0044fda14e991eaf1cc8a7"
      }
     },
     "metadata": {},
     "output_type": "display_data"
    },
    {
     "data": {
      "text/plain": "Downloading:   0%|          | 0.00/452 [00:00<?, ?B/s]",
      "application/vnd.jupyter.widget-view+json": {
       "version_major": 2,
       "version_minor": 0,
       "model_id": "54af7c6f67c744e684d6f338b963cb52"
      }
     },
     "metadata": {},
     "output_type": "display_data"
    },
    {
     "data": {
      "text/plain": "Downloading:   0%|          | 0.00/996k [00:00<?, ?B/s]",
      "application/vnd.jupyter.widget-view+json": {
       "version_major": 2,
       "version_minor": 0,
       "model_id": "c8085bea7a264a93b172612f46f6c084"
      }
     },
     "metadata": {},
     "output_type": "display_data"
    },
    {
     "data": {
      "text/plain": "Downloading:   0%|          | 0.00/190 [00:00<?, ?B/s]",
      "application/vnd.jupyter.widget-view+json": {
       "version_major": 2,
       "version_minor": 0,
       "model_id": "3ada3ec7e39f4eaa950f615d21a489ad"
      }
     },
     "metadata": {},
     "output_type": "display_data"
    },
    {
     "data": {
      "text/plain": "Downloading:   0%|          | 0.00/114 [00:00<?, ?B/s]",
      "application/vnd.jupyter.widget-view+json": {
       "version_major": 2,
       "version_minor": 0,
       "model_id": "7d491e76d5264f8e8d6c036fd8c95487"
      }
     },
     "metadata": {},
     "output_type": "display_data"
    },
    {
     "data": {
      "text/plain": "Downloading:   0%|          | 0.00/1.58M [00:00<?, ?B/s]",
      "application/vnd.jupyter.widget-view+json": {
       "version_major": 2,
       "version_minor": 0,
       "model_id": "5eb4e71c9a3f4b7b8c0824e45f6763d6"
      }
     },
     "metadata": {},
     "output_type": "display_data"
    },
    {
     "name": "stdout",
     "output_type": "stream",
     "text": [
      "[[-0.03885619  0.01854847 -0.04066142 ...  0.01009195 -0.01660535\n",
      "  -0.0013895 ]\n",
      " [-0.00059498 -0.00924199 -0.05870511 ...  0.01638779  0.01509568\n",
      "  -0.04368324]]\n"
     ]
    }
   ],
   "source": [
    "from sentence_transformers import SentenceTransformer\n",
    "sentences = [\"This is an example sentence\", \"Each sentence is converted\"]\n",
    "\n",
    "model = SentenceTransformer('sentence-transformers/distiluse-base-multilingual-cased-v1')\n",
    "embeddings = model.encode(sentences)"
   ],
   "metadata": {
    "collapsed": false,
    "pycharm": {
     "name": "#%%\n"
    }
   }
  },
  {
   "cell_type": "code",
   "execution_count": 4,
   "outputs": [
    {
     "data": {
      "text/plain": "array([[-0.03450632,  0.10763591, -0.08156461, ...,  0.07600534,\n         0.02955959, -0.03109152],\n       [-0.00059497, -0.00924199, -0.05870508, ...,  0.0163878 ,\n         0.01509568, -0.04368326],\n       [ 0.03066736,  0.09719942, -0.0233522 , ..., -0.01590136,\n         0.06013132,  0.06491741],\n       [ 0.01926848, -0.11745138, -0.00518975, ...,  0.01270427,\n        -0.01296873,  0.06903827]], dtype=float32)"
     },
     "execution_count": 4,
     "metadata": {},
     "output_type": "execute_result"
    }
   ],
   "source": [
    "# 1. 푸른 바다의 밤에 시원한 파도를 보며 소주한잔 하고싶네\n",
    "# 2. 뜨거운 태양 아래에서 후덥지근한 여름 따끈한 국물과 함께 말아먹는 국밥의 맛은 예술이야.\n",
    "# 3. 오늘은 대체로 바람이 많이 불고 구름이 많아서 지열을 식혀 줄 비가 내려줄 것 같은 선선한 느낌이야.\n",
    "\n",
    "sentences = [\"I'd like to have a glass of soju with the cool waves on the night of the blue sea.\", \"Each sentence is converted\",\n",
    "             \"The taste of rice soup rolled with hot soup in hot summer is art.\",\n",
    "             \"It's mostly windy and cloudy today, so it feels like it's going to rain to cool down the geothermal heat.\"]\n",
    "embeddings = model.encode(sentences)\n",
    "embeddings"
   ],
   "metadata": {
    "collapsed": false,
    "pycharm": {
     "name": "#%%\n"
    }
   }
  },
  {
   "cell_type": "code",
   "execution_count": 9,
   "outputs": [
    {
     "name": "stdout",
     "output_type": "stream",
     "text": [
      "Low similarity: -0.044002213\n",
      "Low similarity: 0.01717555\n",
      "High similarity: 0.1914782\n"
     ]
    }
   ],
   "source": [
    "import numpy as np\n",
    "\n",
    "print('Low similarity:', np.dot(embeddings[0], embeddings[1]))\n",
    "print('Low similarity:', np.dot(embeddings[1], embeddings[2]))\n",
    "print('High similarity:',np.dot(embeddings[2], embeddings[0]))"
   ],
   "metadata": {
    "collapsed": false,
    "pycharm": {
     "name": "#%%\n"
    }
   }
  },
  {
   "cell_type": "code",
   "execution_count": 10,
   "outputs": [
    {
     "data": {
      "text/plain": "array([[ 0.03831197, -0.04194373, -0.01692309, ...,  0.01317891,\n        -0.03741471,  0.00565058],\n       [ 0.02259778, -0.04824828,  0.00011151, ...,  0.04204915,\n        -0.0242342 , -0.03508988]], dtype=float32)"
     },
     "execution_count": 10,
     "metadata": {},
     "output_type": "execute_result"
    }
   ],
   "source": [
    "sentences = [\"Go away\",\n",
    "             \"Come here\"]\n",
    "\n",
    "embeddings = model.encode(sentences)\n",
    "embeddings"
   ],
   "metadata": {
    "collapsed": false,
    "pycharm": {
     "name": "#%%\n"
    }
   }
  },
  {
   "cell_type": "code",
   "execution_count": 12,
   "outputs": [
    {
     "name": "stdout",
     "output_type": "stream",
     "text": [
      "Low similarity: 0.5025828\n"
     ]
    }
   ],
   "source": [
    "print('Low similarity:', np.dot(embeddings[0], embeddings[1]))"
   ],
   "metadata": {
    "collapsed": false,
    "pycharm": {
     "name": "#%%\n"
    }
   }
  },
  {
   "cell_type": "code",
   "execution_count": null,
   "outputs": [],
   "source": [],
   "metadata": {
    "collapsed": false,
    "pycharm": {
     "name": "#%%\n"
    }
   }
  }
 ],
 "metadata": {
  "kernelspec": {
   "display_name": "Python 3",
   "language": "python",
   "name": "python3"
  },
  "language_info": {
   "codemirror_mode": {
    "name": "ipython",
    "version": 2
   },
   "file_extension": ".py",
   "mimetype": "text/x-python",
   "name": "python",
   "nbconvert_exporter": "python",
   "pygments_lexer": "ipython2",
   "version": "2.7.6"
  }
 },
 "nbformat": 4,
 "nbformat_minor": 0
}